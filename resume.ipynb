{
 "cells": [
  {
   "cell_type": "code",
   "execution_count": null,
   "id": "37363412-dfda-41e8-a52c-c06040ca2a9e",
   "metadata": {},
   "outputs": [],
   "source": [
    "#Входные данные это 3 файла .csv: выгрузка по абонентам населенного пункта, закрытия объемов за 2022 год и за 2023 год.\n",
    "#Необходимо получить список лицевых счетов абонентов с наибольшей вероятностью нарушений."
   ]
  },
  {
   "cell_type": "code",
   "execution_count": null,
   "id": "3464b728-2671-4654-9208-6671de10dc41",
   "metadata": {},
   "outputs": [],
   "source": [
    "#импортируем библиотеки и производим чтение csv файлов"
   ]
  },
  {
   "cell_type": "code",
   "execution_count": 52,
   "id": "38e4dad8-8f07-47df-99e9-ae0008265b66",
   "metadata": {},
   "outputs": [],
   "source": [
    "import pandas as pd\n",
    "import sqlite3\n",
    "pos = pd.read_csv('/Users/rinathamitov/Downloads/krs/poselok.csv')\n",
    "g22 = pd.read_csv('/Users/rinathamitov/Downloads/krs/gaz22.csv')\n",
    "g23 = pd.read_csv('/Users/rinathamitov/Downloads/krs/gaz23.csv')"
   ]
  },
  {
   "cell_type": "code",
   "execution_count": 53,
   "id": "2f26ba01-716a-4592-9727-38c71f9a7a91",
   "metadata": {},
   "outputs": [],
   "source": [
    "#переименовываем для удобства столбцы, которые будем использовать для таблицы pos\n",
    "#удаляем столбцы, которые не будем использовать\n",
    "#приводим площадь отопливаемых помещений к нормальному виду"
   ]
  },
  {
   "cell_type": "code",
   "execution_count": 54,
   "id": "ecb3f27b-1444-4b08-aaea-19de59f2f8c5",
   "metadata": {},
   "outputs": [],
   "source": [
    "pos = pos.set_axis(['locality', 'ls', 'del1', 'del2', 'del3', 'street', 'house', 'del4', 'del5', 'del6', 'date_last_pr', 'del7', \n",
    "                  'del8', 'meter_verification', 'pr_pok', 'tek_pok', 'area', 'del9', 'del10', 'del11', 'del12'], axis=1)\n",
    "\n",
    "pos.drop(['del1', 'del2', 'del3', 'del4', 'del5', 'del6', 'del7', 'del8', 'del9', 'del10', 'del11', 'del12'], axis=1, inplace=True)\n",
    "\n",
    "pos['area'] = pos['area'].astype(str).str.replace(',', '.')  \n",
    "pos['area'] = pd.to_numeric(pos['area'], errors='coerce')"
   ]
  },
  {
   "cell_type": "code",
   "execution_count": 55,
   "id": "eb3d5e71-e9a2-4d89-ba7d-45be4e3b5c96",
   "metadata": {},
   "outputs": [],
   "source": [
    "#переименовываем для удобства столбцы, которые будем использовать для таблицы g22\n",
    "#приводим закрытые объемы по месяцам за 2022 год к нормальному виду\n",
    "#добавляем стобец, в котором вычисляется сумма закрытых объемов в период с января по сентябрь 2022 года\n",
    "#удаляем столбцы, которые не будем использовать далее"
   ]
  },
  {
   "cell_type": "code",
   "execution_count": 56,
   "id": "e0bedeac-5c17-448d-b1a8-8898943ee4c0",
   "metadata": {},
   "outputs": [],
   "source": [
    "g22 = g22.set_axis(['ls', 'Jan', 'Feb', 'Mar', 'Apr', 'May', 'Jun', 'Jul', 'Aug', 'Sep', 'Oct', 'Nov', 'Dec'], axis=1)\n",
    "\n",
    "for column in g22.columns[1:]:\n",
    "    g22[column] = g22[column].astype(str).str.replace(',', '.')  \n",
    "    g22[column] = pd.to_numeric(g22[column], errors='coerce') \n",
    "    \n",
    "jan_sep_t = ['Jan', 'Feb', 'Mar', 'Apr', 'May', 'Jun', 'Jul', 'Aug', 'Sep']\n",
    "g22['jan_sep22'] = g22[jan_sep_t].sum(axis=1)\n",
    "\n",
    "g22.drop(['Jan', 'Feb', 'Mar', 'Apr', 'May', 'Jun', 'Jul', 'Aug', 'Sep', 'Oct', 'Nov'], axis=1, inplace=True)"
   ]
  },
  {
   "cell_type": "code",
   "execution_count": 57,
   "id": "cc3683ed-3a9b-44c7-8611-87e9362b1689",
   "metadata": {},
   "outputs": [],
   "source": [
    "#переименовываем для удобства столбцы, которые будем использовать для таблицы g23\n",
    "#приводим закрытые объемы по месяцам за 2023 год к нормальному виду\n",
    "#добавляем стобец, в котором вычисляется сумма закрытых объемов в период с января по сентябрь 2023 года\n",
    "#удаляем столбцы, которые не будем использовать далее"
   ]
  },
  {
   "cell_type": "code",
   "execution_count": 58,
   "id": "3c793e4f-e5a8-4aaa-a6f3-15808533600d",
   "metadata": {},
   "outputs": [],
   "source": [
    "g23 = g23.set_axis(['ls', 'Jan', 'Feb', 'Mar', 'Apr', 'May', 'Jun', 'Jul', 'Aug', 'Sep'], axis=1)\n",
    "\n",
    "for column in g23.columns[1:]:\n",
    "    g23[column] = g23[column].astype(str).str.replace(',', '.')  \n",
    "    g23[column] = pd.to_numeric(g23[column], errors='coerce') \n",
    "    \n",
    "g23['jan_sep23'] = g23[jan_sep_t].sum(axis=1)\n",
    "\n",
    "g23.drop(['Mar', 'Apr', 'May', 'Jun', 'Jul', 'Aug', 'Sep'], axis=1, inplace=True)"
   ]
  },
  {
   "cell_type": "code",
   "execution_count": 59,
   "id": "fed0f6a8-e295-4272-94c2-b2369832ace0",
   "metadata": {},
   "outputs": [],
   "source": [
    "#соединяем все три полученные таблицы по лицевому счету"
   ]
  },
  {
   "cell_type": "code",
   "execution_count": 60,
   "id": "bad31728-3703-4bd7-9621-52a56a8199f0",
   "metadata": {},
   "outputs": [],
   "source": [
    "total = pos.merge(g22, on='ls', how='left') \\\n",
    "           .merge(g23, on='ls', how='left')"
   ]
  },
  {
   "cell_type": "code",
   "execution_count": 61,
   "id": "fe898343-9ffb-4636-a64b-82f13860d468",
   "metadata": {},
   "outputs": [],
   "source": [
    "#5 критериев оценки, выгрузка на сентябрь 2023, анализ будет на 9 октября 2023 года:\n",
    "#1 - истек МПИ (0.44)\n",
    "#2 - аномально низкое потребление в отопительный период (0.2)\n",
    "#3 - снижение потребления относительно аналогичного периода за прошлый год больше чем на 30% (0.15)\n",
    "#4 - возможность недопереданного объема (0.1)\n",
    "#5 - длительное отсутствие проверок (0.1)\n",
    "#пишем sql запрос, в котором выводим лицевой счет, улицу, дом, критерии\n",
    "#записываем результаты в новую таблицу total_new"
   ]
  },
  {
   "cell_type": "code",
   "execution_count": 62,
   "id": "719016a0-951a-47d6-9405-2de4ccebf9b3",
   "metadata": {},
   "outputs": [
    {
     "data": {
      "text/plain": [
       "186"
      ]
     },
     "execution_count": 62,
     "metadata": {},
     "output_type": "execute_result"
    }
   ],
   "source": [
    "conn = sqlite3.connect('my_database.db')\n",
    "total.to_sql('total', conn, if_exists='replace', index=False)\n",
    "total_new = pd.read_sql_query(\"\"\"\n",
    "    SELECT ls, street, house,\n",
    "        CASE WHEN meter_verification < '2023-10-09' THEN 0.44 ELSE 0 END as k1,\n",
    "        CASE WHEN (Dec + Jan + Feb) < (area * 0.0108) THEN 0.2 ELSE 0 END as k2,\n",
    "        CASE WHEN (jan_sep23 / jan_sep22) < 0.7 THEN 0.15 ELSE 0 END as k3,\n",
    "        CASE WHEN pr_pok = tek_pok THEN 0.1 ELSE 0 END as k4,\n",
    "        CASE WHEN julianday('2023-10-09') - julianday(date_last_pr) > 60 THEN 0.1 ELSE 0 END as k5\n",
    "    FROM total\n",
    "\"\"\", conn)\n",
    "total_new.to_sql('total_new', conn, if_exists='replace', index=False)"
   ]
  },
  {
   "cell_type": "code",
   "execution_count": 63,
   "id": "0d126c03-b8e8-445c-b536-08e466a484a9",
   "metadata": {},
   "outputs": [],
   "source": [
    "#пишем sql запрос, в котором получаем 10 лицевых счетов абонентов с наибольшей вероятность нарушений"
   ]
  },
  {
   "cell_type": "code",
   "execution_count": 64,
   "id": "1ad08205-0c22-4fae-81b3-a1ca0b9fc6ed",
   "metadata": {},
   "outputs": [
    {
     "name": "stdout",
     "output_type": "stream",
     "text": [
      " Лицевой счет           Улица    Дом  Вероятность выявления нарушения, %\n",
      "            2      пер Дружбы   д.23                                99.0\n",
      "           89         ул Мира  д.231                                99.0\n",
      "          101    ул Некрасова  д.124                                99.0\n",
      "          119       ул Победы   д.23                                99.0\n",
      "          148     ул Симонова   д.48                                84.0\n",
      "           70 ул Крестьянская   д.25                                79.0\n",
      "            1      пер Дружбы   д.21                                55.0\n",
      "            3      пер Дружбы    д.6                                55.0\n",
      "            4     пер Зеленый   д.6А                                55.0\n",
      "            6  пер Котовского   д.6А                                55.0\n"
     ]
    }
   ],
   "source": [
    "result = pd.read_sql_query(\"\"\"\n",
    "    SELECT ls as 'Лицевой счет', street as 'Улица', house as 'Дом', (k1 + k2 + k3 + k4 + k5) * 100 as 'Вероятность выявления нарушения, %'\n",
    "    FROM total_new\n",
    "    ORDER BY 4 desc\n",
    "    LIMIT 10\n",
    "\"\"\", conn)\n",
    "print(result.to_string(index=False))"
   ]
  }
 ],
 "metadata": {
  "kernelspec": {
   "display_name": "Python 3 (ipykernel)",
   "language": "python",
   "name": "python3"
  },
  "language_info": {
   "codemirror_mode": {
    "name": "ipython",
    "version": 3
   },
   "file_extension": ".py",
   "mimetype": "text/x-python",
   "name": "python",
   "nbconvert_exporter": "python",
   "pygments_lexer": "ipython3",
   "version": "3.13.2"
  }
 },
 "nbformat": 4,
 "nbformat_minor": 5
}
